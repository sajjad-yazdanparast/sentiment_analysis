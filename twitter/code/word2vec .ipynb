{
  "nbformat": 4,
  "nbformat_minor": 0,
  "metadata": {
    "colab": {
      "name": "word2vec.ipynb",
      "provenance": [],
      "collapsed_sections": []
    },
    "kernelspec": {
      "name": "python3",
      "display_name": "Python 3"
    },
    "accelerator": "GPU"
  },
  "cells": [
    {
      "cell_type": "markdown",
      "metadata": {
        "id": "SfeN7eS9Qp3o",
        "colab_type": "text"
      },
      "source": [
        "### I used [this dataset](https://www.kaggle.com/arkhoshghalb/twitter-sentiment-analysis-hatred-speech) for sentiment analysis .\n",
        "### My task is recognizing speech with sexist and racist sentiment .\n"
      ]
    },
    {
      "cell_type": "code",
      "metadata": {
        "id": "5OK8T8-eJmnf",
        "colab_type": "code",
        "colab": {
          "base_uri": "https://localhost:8080/",
          "height": 137
        },
        "outputId": "4ce80cdb-abd5-4dca-9035-d70f9c66493d"
      },
      "source": [
        "from gensim.models import KeyedVectors\n",
        "import pandas as pd \n",
        "import numpy as np \n",
        "import nltk \n",
        "import spacy\n",
        "import re\n",
        "# from sklearn.linear_model import LogisticRegression\n",
        "from sklearn.svm import SVC,LinearSVC\n",
        "# from sklearn.naive_bayes import *\n",
        "# from xgboost import XGBClassifier\n",
        "from sklearn.metrics import classification_report\n",
        "# from sklearn.ensemble import RandomForestClassifier\n",
        "# from sklearn.preprocessing import StandardScaler\n",
        "from sklearn.model_selection import train_test_split\n",
        "\n",
        "nltk.download('wordnet')\n",
        "nltk.download('punkt')\n",
        "nltk.download('averaged_perceptron_tagger')\n",
        "\n",
        "from nltk.stem import WordNetLemmatizer \n",
        "from nltk.corpus import wordnet \n",
        "from nltk import word_tokenize, pos_tag\n",
        "from collections import defaultdict"
      ],
      "execution_count": 1,
      "outputs": [
        {
          "output_type": "stream",
          "text": [
            "[nltk_data] Downloading package wordnet to /root/nltk_data...\n",
            "[nltk_data]   Unzipping corpora/wordnet.zip.\n",
            "[nltk_data] Downloading package punkt to /root/nltk_data...\n",
            "[nltk_data]   Unzipping tokenizers/punkt.zip.\n",
            "[nltk_data] Downloading package averaged_perceptron_tagger to\n",
            "[nltk_data]     /root/nltk_data...\n",
            "[nltk_data]   Unzipping taggers/averaged_perceptron_tagger.zip.\n"
          ],
          "name": "stdout"
        }
      ]
    },
    {
      "cell_type": "code",
      "metadata": {
        "id": "ooP90eumBIPI",
        "colab_type": "code",
        "colab": {}
      },
      "source": [
        "# def gunzip(file_path,output_path):\n",
        "#     with gzip.open(file_path,\"rb\") as f_in, open(output_path,\"wb\") as f_out:\n",
        "#         shutil.copyfileobj(f_in, f_out)\n",
        "# gunzip('/content/drive/My Drive/parto tech/ GoogleNews-vectors-negative300.bin.gz','/content/drive/My Drive/parto tech/word2vec.bin')"
      ],
      "execution_count": 2,
      "outputs": []
    },
    {
      "cell_type": "markdown",
      "metadata": {
        "id": "X_ALRvp6SbJN",
        "colab_type": "text"
      },
      "source": [
        "### I useed pre-trained [google news vectors](https://code.google.com/archive/p/word2vec/) as word2vec model .\n"
      ]
    },
    {
      "cell_type": "code",
      "metadata": {
        "id": "dHNlkWcDNnE9",
        "colab_type": "code",
        "colab": {
          "base_uri": "https://localhost:8080/",
          "height": 71
        },
        "outputId": "57c4fec9-77bb-4bda-8433-60b21c838f2f"
      },
      "source": [
        "model = KeyedVectors.load_word2vec_format(open('/content/drive/My Drive/parto tech/sentiment_analysis/word2vec.bin','rb'), binary=True)"
      ],
      "execution_count": 3,
      "outputs": [
        {
          "output_type": "stream",
          "text": [
            "/usr/local/lib/python3.6/dist-packages/smart_open/smart_open_lib.py:254: UserWarning: This function is deprecated, use smart_open.open instead. See the migration notes for details: https://github.com/RaRe-Technologies/smart_open/blob/master/README.rst#migrating-to-the-new-open-function\n",
            "  'See the migration notes for details: %s' % _MIGRATION_NOTES_URL\n"
          ],
          "name": "stderr"
        }
      ]
    },
    {
      "cell_type": "code",
      "metadata": {
        "id": "G8JDWxsNp95k",
        "colab_type": "code",
        "colab": {}
      },
      "source": [
        "train = pd.read_csv('/content/drive/My Drive/parto tech/sentiment_analysis/train.csv') \n",
        "test = pd.read_csv('/content/drive/My Drive/parto tech/sentiment_analysis/test.csv')"
      ],
      "execution_count": 4,
      "outputs": []
    },
    {
      "cell_type": "code",
      "metadata": {
        "id": "Ukg557QUs7gF",
        "colab_type": "code",
        "colab": {}
      },
      "source": [
        "def remove_at_and_hashtag (text) :\n",
        "  text = text.replace('@user',' ')\n",
        "  return text.replace('#',' ')\n",
        "  #TODO : use hashtags"
      ],
      "execution_count": 5,
      "outputs": []
    },
    {
      "cell_type": "markdown",
      "metadata": {
        "id": "-KICle_PS4Xm",
        "colab_type": "text"
      },
      "source": [
        "### At cell below I developed functions to lemmatize tokens based on their POS tag using nltk library."
      ]
    },
    {
      "cell_type": "code",
      "metadata": {
        "id": "GNOwvxPC91fO",
        "colab_type": "code",
        "colab": {}
      },
      "source": [
        "# lemmatizing with NLTK lemmatize\n",
        "\n",
        "\n",
        "def get_wordnet_pos(pos):\n",
        "    \"\"\"Map POS tag to first character lemmatize() accepts\"\"\"\n",
        "    tag = pos.upper()\n",
        "    tag_dict = {\"J\": wordnet.ADJ,\n",
        "                \"N\": wordnet.NOUN,\n",
        "                \"V\": wordnet.VERB,\n",
        "                \"R\": wordnet.ADV}\n",
        "\n",
        "    return tag_dict.get(tag, wordnet.NOUN)\n",
        "\n",
        "\n",
        "lem = WordNetLemmatizer()\n",
        "\n",
        "def my_lemmatizer (text) :\n",
        "  tokens = word_tokenize(text)\n",
        "  lemmatized=[]\n",
        "  poses = [get_wordnet_pos(tag[0]) for tag in pos_tag(tokens)]\n",
        "  for i in range (len(tokens)):\n",
        "    lemma = lem.lemmatize(tokens[i],poses[i])\n",
        "    lemmatized.append(lemma)\n",
        "  return ' '.join(lemmatized)\n"
      ],
      "execution_count": 6,
      "outputs": []
    },
    {
      "cell_type": "markdown",
      "metadata": {
        "id": "UZ2ABmuHTOss",
        "colab_type": "text"
      },
      "source": [
        "### Below cell contains a block of code for lemmatizing tokens using spacy library. But it's performance was awful, so I commented it !"
      ]
    },
    {
      "cell_type": "code",
      "metadata": {
        "id": "6L5RPcX0MOm7",
        "colab_type": "code",
        "colab": {}
      },
      "source": [
        "# def my_lemmtizer(text) :\n",
        "#   nlp = spacy.load('en', disable=['parser', 'ner'])\n",
        "#   doc = nlp(text)\n",
        "#   string = \" \".join([token.lemma_ for token in doc])\n",
        "#   return re.sub('-PRON-','they',string)\n",
        " "
      ],
      "execution_count": 7,
      "outputs": []
    },
    {
      "cell_type": "code",
      "metadata": {
        "id": "gkP1IlxeqMUo",
        "colab_type": "code",
        "colab": {}
      },
      "source": [
        "train['tweet'] = train['tweet'].apply(remove_at_and_hashtag)\n",
        "train['tweet'] = train['tweet'].apply(my_lemmatizer)"
      ],
      "execution_count": 8,
      "outputs": []
    },
    {
      "cell_type": "markdown",
      "metadata": {
        "id": "w1l23EswT3Z2",
        "colab_type": "text"
      },
      "source": [
        "### sentence2vec function creates a vector for each sentence based on the mean of it's words vector. If there was a word which it was not present in the pre-trained word2vec model, I've considered zero vector for that ."
      ]
    },
    {
      "cell_type": "code",
      "metadata": {
        "id": "GXLUMQnHuSf2",
        "colab_type": "code",
        "colab": {}
      },
      "source": [
        "def sentence2vec(row,w2v) :\n",
        "  vector = np.zeros((1,300)) \n",
        "  words = row.split()\n",
        "  count = 0 \n",
        "  for word in words :\n",
        "    try :\n",
        "      vector += w2v[word].reshape((1,300))\n",
        "      count +=1 \n",
        "    except KeyError :\n",
        "      continue \n",
        "  if count != 0 :\n",
        "    return vector/count\n",
        "  return vector"
      ],
      "execution_count": 9,
      "outputs": []
    },
    {
      "cell_type": "markdown",
      "metadata": {
        "id": "jBfuTyuSbmUh",
        "colab_type": "text"
      },
      "source": [
        "### Here I applied sentence2vec function to hatred and positive sentences"
      ]
    },
    {
      "cell_type": "code",
      "metadata": {
        "id": "uSy2Qpm2W1hn",
        "colab_type": "code",
        "colab": {}
      },
      "source": [
        "hated_sentences = train[train['label']==1]['tweet']\n",
        "positive_sentences = train[train['label']==0]['tweet']\n",
        "hated_vecs = np.concatenate([sentence2vec(z,model) for z in hated_sentences])\n",
        "positive_vecs = np.concatenate([sentence2vec(z,model) for z in positive_sentences])"
      ],
      "execution_count": 10,
      "outputs": []
    },
    {
      "cell_type": "markdown",
      "metadata": {
        "id": "0nt0MMVkcBSu",
        "colab_type": "text"
      },
      "source": [
        "### Plotting cell below is nothing but some data exploratoty"
      ]
    },
    {
      "cell_type": "code",
      "metadata": {
        "id": "oawhQpTQZi1H",
        "colab_type": "code",
        "colab": {}
      },
      "source": [
        "# from sklearn.manifold import TSNE\n",
        "# import matplotlib.pyplot as plt \n",
        "\n",
        "# ts = TSNE (2)\n",
        "# hated_vecs = ts.fit_transform(hated_vecs)\n",
        "# positive_vecs = ts.fit_transform(positive_vecs)\n",
        "\n",
        "# for row in positive_vecs :\n",
        "#   plt.plot(row[0],row[1],marker='o',color='g')\n",
        "# for row in hated_vecs :\n",
        "#   plt.plot(row[0],row[1],marker='o',color='r')"
      ],
      "execution_count": 11,
      "outputs": []
    },
    {
      "cell_type": "markdown",
      "metadata": {
        "id": "xUpVuBSccPvE",
        "colab_type": "text"
      },
      "source": [
        "### At two cells below I created a dataframe from tweets, their related vectors and labels ."
      ]
    },
    {
      "cell_type": "code",
      "metadata": {
        "id": "051H_tvnfH66",
        "colab_type": "code",
        "colab": {}
      },
      "source": [
        "X = np.concatenate((positive_vecs,hated_vecs))\n",
        "Y = np.concatenate( (np.zeros(len(positive_vecs)) , np.ones(len(hated_vecs))))\n",
        "tweets = np.concatenate((positive_sentences,hated_sentences))"
      ],
      "execution_count": 12,
      "outputs": []
    },
    {
      "cell_type": "code",
      "metadata": {
        "id": "iz4dzHtw4VOB",
        "colab_type": "code",
        "colab": {}
      },
      "source": [
        "new_df = pd.DataFrame(X)\n",
        "new_df['label'] = Y \n",
        "new_df['tweet'] = tweets"
      ],
      "execution_count": 13,
      "outputs": []
    },
    {
      "cell_type": "markdown",
      "metadata": {
        "id": "IOq2tfE90J1Q",
        "colab_type": "text"
      },
      "source": [
        "### Split data into train and test segments then use Linear SVC as model"
      ]
    },
    {
      "cell_type": "code",
      "metadata": {
        "id": "i_Jc2iXyCyej",
        "colab_type": "code",
        "colab": {}
      },
      "source": [
        "x_train , x_test , y_train , y_test = train_test_split(new_df.drop(['label','tweet'],axis=1),new_df['label'],random_state=101,test_size = 0.3)"
      ],
      "execution_count": 14,
      "outputs": []
    },
    {
      "cell_type": "code",
      "metadata": {
        "id": "dtSl8quSiB8I",
        "colab_type": "code",
        "colab": {}
      },
      "source": [
        "model_ = LinearSVC(C=5)\n",
        "model_.fit(x_train,y_train)\n",
        "y_pred = model_.predict(x_test)\n",
        "\n",
        "print(classification_report(y_true=y_test,y_pred=y_pred))"
      ],
      "execution_count": 15,
      "outputs": []
    },
    {
      "cell_type": "markdown",
      "metadata": {
        "id": "4vyj3Ra1ceJq",
        "colab_type": "text"
      },
      "source": [
        "### Let's see if there are more than two classes or not.\n",
        "### Here I used elbow method to find optimal K for clustering"
      ]
    },
    {
      "cell_type": "code",
      "metadata": {
        "id": "tev2X-NfdLOb",
        "colab_type": "code",
        "colab": {
          "base_uri": "https://localhost:8080/",
          "height": 295
        },
        "outputId": "cf90374d-229e-402f-f9db-19977b81dc70"
      },
      "source": [
        "from sklearn.cluster import KMeans \n",
        "import matplotlib.pyplot as plt\n",
        "\n",
        "Sum_of_squared_distances = []\n",
        "K = range(1,15)\n",
        "for k in K:\n",
        "    km = KMeans(n_clusters=k)\n",
        "    km = km.fit(X)\n",
        "    Sum_of_squared_distances.append(km.inertia_)\n",
        "\n",
        "plt.plot(K, Sum_of_squared_distances, 'bx-')\n",
        "plt.xlabel('k')\n",
        "plt.ylabel('Sum_of_squared_distances')\n",
        "plt.title('Elbow Method For Optimal k')\n",
        "plt.show()"
      ],
      "execution_count": 52,
      "outputs": [
        {
          "output_type": "display_data",
          "data": {
            "image/png": "[encoded data removed]",
            "text/plain": [
              "<Figure size 432x288 with 1 Axes>"
            ]
          },
          "metadata": {
            "tags": [],
            "needs_background": "light"
          }
        }
      ]
    },
    {
      "cell_type": "code",
      "metadata": {
        "id": "PoWbWsEhhLbf",
        "colab_type": "code",
        "colab": {}
      },
      "source": [
        "clu = KMeans(n_clusters=5)\n",
        "clu.fit(X)\n",
        "new_df['new_label'] = clu.labels_"
      ],
      "execution_count": 19,
      "outputs": []
    },
    {
      "cell_type": "code",
      "metadata": {
        "id": "LFNtcLiPhLAv",
        "colab_type": "code",
        "colab": {}
      },
      "source": [
        "x_clu_train , x_clu_test , y_clu_train , y_clu_test = train_test_split(new_df.drop(['label','new_label','tweet'],axis=1),new_df['new_label'],random_state=101,test_size = 0.3)"
      ],
      "execution_count": 20,
      "outputs": []
    },
    {
      "cell_type": "code",
      "metadata": {
        "id": "yz1vFNoehlMn",
        "colab_type": "code",
        "colab": {
          "base_uri": "https://localhost:8080/",
          "height": 258
        },
        "outputId": "3970f2f3-6422-49ba-a961-23b54027ac73"
      },
      "source": [
        "model_clu_ = LinearSVC(C=5)\n",
        "model_clu_.fit(x_clu_train,y_clu_train)\n",
        "y_clu_pred = model_clu_.predict(x_clu_test)\n",
        "\n",
        "\n",
        "print(classification_report(y_true=y_clu_test,y_pred=y_clu_pred))"
      ],
      "execution_count": 21,
      "outputs": [
        {
          "output_type": "stream",
          "text": [
            "              precision    recall  f1-score   support\n",
            "\n",
            "           0       0.99      0.93      0.96       308\n",
            "           1       0.94      0.95      0.94      3245\n",
            "           2       0.93      0.93      0.93      2891\n",
            "           3       0.94      0.92      0.93      1384\n",
            "           4       0.93      0.94      0.93      1761\n",
            "\n",
            "    accuracy                           0.94      9589\n",
            "   macro avg       0.95      0.93      0.94      9589\n",
            "weighted avg       0.94      0.94      0.94      9589\n",
            "\n"
          ],
          "name": "stdout"
        },
        {
          "output_type": "stream",
          "text": [
            "/usr/local/lib/python3.6/dist-packages/sklearn/svm/_base.py:947: ConvergenceWarning: Liblinear failed to converge, increase the number of iterations.\n",
            "  \"the number of iterations.\", ConvergenceWarning)\n"
          ],
          "name": "stderr"
        }
      ]
    },
    {
      "cell_type": "code",
      "metadata": {
        "id": "e4P8-xlGbcor",
        "colab_type": "code",
        "colab": {}
      },
      "source": [
        ""
      ],
      "execution_count": 21,
      "outputs": []
    },
    {
      "cell_type": "markdown",
      "metadata": {
        "id": "8FUMP7JM0ao2",
        "colab_type": "text"
      },
      "source": [
        "## Here we can see result of scattering of hatred and positive classes among classes number 0 to 4"
      ]
    },
    {
      "cell_type": "code",
      "metadata": {
        "id": "uL0DBqCKNlcf",
        "colab_type": "code",
        "colab": {
          "base_uri": "https://localhost:8080/",
          "height": 388
        },
        "outputId": "4e28abce-ea9c-4d5a-df19-5488df1d5820"
      },
      "source": [
        "gn = new_df.groupby(by=['label','new_label'])[['tweet']].count()\n",
        "gn"
      ],
      "execution_count": 41,
      "outputs": [
        {
          "output_type": "execute_result",
          "data": {
            "text/html": [
              "<div>\n",
              "<style scoped>\n",
              "    .dataframe tbody tr th:only-of-type {\n",
              "        vertical-align: middle;\n",
              "    }\n",
              "\n",
              "    .dataframe tbody tr th {\n",
              "        vertical-align: top;\n",
              "    }\n",
              "\n",
              "    .dataframe thead th {\n",
              "        text-align: right;\n",
              "    }\n",
              "</style>\n",
              "<table border=\"1\" class=\"dataframe\">\n",
              "  <thead>\n",
              "    <tr style=\"text-align: right;\">\n",
              "      <th></th>\n",
              "      <th></th>\n",
              "      <th>tweet</th>\n",
              "    </tr>\n",
              "    <tr>\n",
              "      <th>label</th>\n",
              "      <th>new_label</th>\n",
              "      <th></th>\n",
              "    </tr>\n",
              "  </thead>\n",
              "  <tbody>\n",
              "    <tr>\n",
              "      <th rowspan=\"5\" valign=\"top\">0.0</th>\n",
              "      <th>0</th>\n",
              "      <td>984</td>\n",
              "    </tr>\n",
              "    <tr>\n",
              "      <th>1</th>\n",
              "      <td>10031</td>\n",
              "    </tr>\n",
              "    <tr>\n",
              "      <th>2</th>\n",
              "      <td>8705</td>\n",
              "    </tr>\n",
              "    <tr>\n",
              "      <th>3</th>\n",
              "      <td>4493</td>\n",
              "    </tr>\n",
              "    <tr>\n",
              "      <th>4</th>\n",
              "      <td>5507</td>\n",
              "    </tr>\n",
              "    <tr>\n",
              "      <th rowspan=\"5\" valign=\"top\">1.0</th>\n",
              "      <th>0</th>\n",
              "      <td>1</td>\n",
              "    </tr>\n",
              "    <tr>\n",
              "      <th>1</th>\n",
              "      <td>862</td>\n",
              "    </tr>\n",
              "    <tr>\n",
              "      <th>2</th>\n",
              "      <td>820</td>\n",
              "    </tr>\n",
              "    <tr>\n",
              "      <th>3</th>\n",
              "      <td>97</td>\n",
              "    </tr>\n",
              "    <tr>\n",
              "      <th>4</th>\n",
              "      <td>462</td>\n",
              "    </tr>\n",
              "  </tbody>\n",
              "</table>\n",
              "</div>"
            ],
            "text/plain": [
              "                 tweet\n",
              "label new_label       \n",
              "0.0   0            984\n",
              "      1          10031\n",
              "      2           8705\n",
              "      3           4493\n",
              "      4           5507\n",
              "1.0   0              1\n",
              "      1            862\n",
              "      2            820\n",
              "      3             97\n",
              "      4            462"
            ]
          },
          "metadata": {
            "tags": []
          },
          "execution_count": 41
        }
      ]
    },
    {
      "cell_type": "code",
      "metadata": {
        "id": "X6ZZlyrT_vKS",
        "colab_type": "code",
        "colab": {}
      },
      "source": [
        "new_gn =gn.reset_index()"
      ],
      "execution_count": 45,
      "outputs": []
    },
    {
      "cell_type": "code",
      "metadata": {
        "id": "HGHDvJIY_wTq",
        "colab_type": "code",
        "colab": {
          "base_uri": "https://localhost:8080/",
          "height": 280
        },
        "outputId": "491fae55-c07d-4a3a-9785-c149d184f0f2"
      },
      "source": [
        "import matplotlib.pyplot as plt\n",
        "import seaborn as sns\n",
        "sns.barplot(x='new_label',y='tweet',hue='label',data=new_gn)"
      ],
      "execution_count": 51,
      "outputs": [
        {
          "output_type": "display_data",
          "data": {
            "image/png": "[encoded data removed]",
            "text/plain": [
              "<Figure size 432x288 with 1 Axes>"
            ]
          },
          "metadata": {
            "tags": [],
            "needs_background": "light"
          }
        }
      ]
    }
  ]
}
