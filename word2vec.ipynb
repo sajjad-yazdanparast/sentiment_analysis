{
  "nbformat": 4,
  "nbformat_minor": 0,
  "metadata": {
    "colab": {
      "name": "word2vec.ipynb",
      "provenance": [],
      "collapsed_sections": [],
      "toc_visible": true,
      "mount_file_id": "1eBMRwsrXGuqJ7he5zxWLnAhLPXIt9PQw",
      "authorship_tag": "ABX9TyMkjzoRRm5r107jB6O9MtYq",
      "include_colab_link": true
    },
    "kernelspec": {
      "name": "python3",
      "display_name": "Python 3"
    },
    "accelerator": "GPU"
  },
  "cells": [
    {
      "cell_type": "markdown",
      "metadata": {
        "id": "view-in-github",
        "colab_type": "text"
      },
      "source": [
        "<a href=\"https://colab.research.google.com/github/sajjad-yazdanparast/sentiment_analysis/blob/master/word2vec.ipynb\" target=\"_parent\"><img src=\"https://colab.research.google.com/assets/colab-badge.svg\" alt=\"Open In Colab\"/></a>"
      ]
    },
    {
      "cell_type": "code",
      "metadata": {
        "id": "5OK8T8-eJmnf",
        "colab_type": "code",
        "colab": {}
      },
      "source": [
        "from gensim.models import KeyedVectors\n",
        "import pandas as pd \n",
        "import numpy as np "
      ],
      "execution_count": 6,
      "outputs": []
    },
    {
      "cell_type": "code",
      "metadata": {
        "id": "ooP90eumBIPI",
        "colab_type": "code",
        "colab": {}
      },
      "source": [
        "# def gunzip(file_path,output_path):\n",
        "#     with gzip.open(file_path,\"rb\") as f_in, open(output_path,\"wb\") as f_out:\n",
        "#         shutil.copyfileobj(f_in, f_out)\n",
        "# gunzip('/content/drive/My Drive/parto tech/ GoogleNews-vectors-negative300.bin.gz','/content/drive/My Drive/parto tech/word2vec.bin')"
      ],
      "execution_count": null,
      "outputs": []
    },
    {
      "cell_type": "code",
      "metadata": {
        "id": "dHNlkWcDNnE9",
        "colab_type": "code",
        "colab": {
          "base_uri": "https://localhost:8080/",
          "height": 71
        },
        "outputId": "621cf837-2d35-4047-bd5e-14b92e3b79d9"
      },
      "source": [
        "model = KeyedVectors.load_word2vec_format(open('/content/drive/My Drive/parto tech/sentiment_analysis/word2vec.bin','rb'), binary=True)"
      ],
      "execution_count": 3,
      "outputs": [
        {
          "output_type": "stream",
          "text": [
            "/usr/local/lib/python3.6/dist-packages/smart_open/smart_open_lib.py:254: UserWarning: This function is deprecated, use smart_open.open instead. See the migration notes for details: https://github.com/RaRe-Technologies/smart_open/blob/master/README.rst#migrating-to-the-new-open-function\n",
            "  'See the migration notes for details: %s' % _MIGRATION_NOTES_URL\n"
          ],
          "name": "stderr"
        }
      ]
    },
    {
      "cell_type": "code",
      "metadata": {
        "id": "G8JDWxsNp95k",
        "colab_type": "code",
        "colab": {}
      },
      "source": [
        "train = pd.read_csv('/content/drive/My Drive/parto tech/sentiment_analysis/train.csv') \n",
        "test = pd.read_csv('/content/drive/My Drive/parto tech/sentiment_analysis/test.csv')"
      ],
      "execution_count": 62,
      "outputs": []
    },
    {
      "cell_type": "code",
      "metadata": {
        "id": "Ukg557QUs7gF",
        "colab_type": "code",
        "colab": {}
      },
      "source": [
        "def remove_atsign (text) :\n",
        "  return text.replace('@user',' ')"
      ],
      "execution_count": 63,
      "outputs": []
    },
    {
      "cell_type": "code",
      "metadata": {
        "id": "gkP1IlxeqMUo",
        "colab_type": "code",
        "colab": {}
      },
      "source": [
        "train['tweet'] = train['tweet'].apply(remove_atsign)"
      ],
      "execution_count": 64,
      "outputs": []
    },
    {
      "cell_type": "code",
      "metadata": {
        "id": "GXLUMQnHuSf2",
        "colab_type": "code",
        "colab": {}
      },
      "source": [
        "def sentence2vec(row,w2v) :\n",
        "  vector = np.zeros((1,300)) \n",
        "  words = row.split()\n",
        "  count = 0 \n",
        "  for word in words :\n",
        "    try :\n",
        "      vector += w2v[word].reshape((1,300))\n",
        "      count +=1 \n",
        "    except KeyError :\n",
        "      continue \n",
        "  if count != 0 :\n",
        "    return vector/count\n",
        "  return vector"
      ],
      "execution_count": 75,
      "outputs": []
    },
    {
      "cell_type": "code",
      "metadata": {
        "id": "SzgBj4XQ3UbQ",
        "colab_type": "code",
        "colab": {}
      },
      "source": [
        "vectors = np.concatenate([sentence2vec(z,model) for z in train['tweet']])"
      ],
      "execution_count": 76,
      "outputs": []
    },
    {
      "cell_type": "code",
      "metadata": {
        "id": "fjFh9kmX6nK7",
        "colab_type": "code",
        "colab": {
          "base_uri": "https://localhost:8080/",
          "height": 34
        },
        "outputId": "92ce1be7-c736-47d6-9fbe-8cbea412f42e"
      },
      "source": [
        "np.shape(vectors)"
      ],
      "execution_count": 77,
      "outputs": [
        {
          "output_type": "execute_result",
          "data": {
            "text/plain": [
              "(31962, 300)"
            ]
          },
          "metadata": {
            "tags": []
          },
          "execution_count": 77
        }
      ]
    },
    {
      "cell_type": "code",
      "metadata": {
        "id": "vAyoevCKz8qJ",
        "colab_type": "code",
        "colab": {
          "base_uri": "https://localhost:8080/",
          "height": 189
        },
        "outputId": "84965412-6234-4e94-bc8e-833a3c78f086"
      },
      "source": [
        "train.info()"
      ],
      "execution_count": 39,
      "outputs": [
        {
          "output_type": "stream",
          "text": [
            "<class 'pandas.core.frame.DataFrame'>\n",
            "RangeIndex: 31962 entries, 0 to 31961\n",
            "Data columns (total 3 columns):\n",
            " #   Column  Non-Null Count  Dtype \n",
            "---  ------  --------------  ----- \n",
            " 0   id      31962 non-null  int64 \n",
            " 1   label   31962 non-null  int64 \n",
            " 2   tweet   31962 non-null  object\n",
            "dtypes: int64(2), object(1)\n",
            "memory usage: 749.2+ KB\n"
          ],
          "name": "stdout"
        }
      ]
    },
    {
      "cell_type": "code",
      "metadata": {
        "id": "SG69AlUCyPcu",
        "colab_type": "code",
        "colab": {}
      },
      "source": [
        ""
      ],
      "execution_count": 78,
      "outputs": []
    },
    {
      "cell_type": "code",
      "metadata": {
        "id": "4EVIhpz11KPR",
        "colab_type": "code",
        "colab": {
          "base_uri": "https://localhost:8080/",
          "height": 203
        },
        "outputId": "761e3a06-2b30-4290-dd91-e3c00455ba08"
      },
      "source": [
        "train.head()"
      ],
      "execution_count": 48,
      "outputs": [
        {
          "output_type": "execute_result",
          "data": {
            "text/html": [
              "<div>\n",
              "<style scoped>\n",
              "    .dataframe tbody tr th:only-of-type {\n",
              "        vertical-align: middle;\n",
              "    }\n",
              "\n",
              "    .dataframe tbody tr th {\n",
              "        vertical-align: top;\n",
              "    }\n",
              "\n",
              "    .dataframe thead th {\n",
              "        text-align: right;\n",
              "    }\n",
              "</style>\n",
              "<table border=\"1\" class=\"dataframe\">\n",
              "  <thead>\n",
              "    <tr style=\"text-align: right;\">\n",
              "      <th></th>\n",
              "      <th>id</th>\n",
              "      <th>label</th>\n",
              "      <th>tweet</th>\n",
              "      <th>vector</th>\n",
              "    </tr>\n",
              "  </thead>\n",
              "  <tbody>\n",
              "    <tr>\n",
              "      <th>0</th>\n",
              "      <td>1</td>\n",
              "      <td>0</td>\n",
              "      <td>when a father is dysfunctional and is so se...</td>\n",
              "      <td>[[0.0710915958180147, 0.03790642233455882, 0.0...</td>\n",
              "    </tr>\n",
              "    <tr>\n",
              "      <th>1</th>\n",
              "      <td>2</td>\n",
              "      <td>0</td>\n",
              "      <td>thanks for #lyft credit i can't use cause ...</td>\n",
              "      <td>[[0.03919534122242647, 0.015222886029411764, 0...</td>\n",
              "    </tr>\n",
              "    <tr>\n",
              "      <th>2</th>\n",
              "      <td>3</td>\n",
              "      <td>0</td>\n",
              "      <td>bihday your majesty</td>\n",
              "      <td>[[0.16959635416666666, 0.07747395833333333, 0....</td>\n",
              "    </tr>\n",
              "    <tr>\n",
              "      <th>3</th>\n",
              "      <td>4</td>\n",
              "      <td>0</td>\n",
              "      <td>#model   i love u take with u all the time in ...</td>\n",
              "      <td>[[-0.04364885602678571, 0.021353585379464284, ...</td>\n",
              "    </tr>\n",
              "    <tr>\n",
              "      <th>4</th>\n",
              "      <td>5</td>\n",
              "      <td>0</td>\n",
              "      <td>factsguide: society now    #motivation</td>\n",
              "      <td>[[-0.042205810546875, -0.015838623046875, -0.0...</td>\n",
              "    </tr>\n",
              "  </tbody>\n",
              "</table>\n",
              "</div>"
            ],
            "text/plain": [
              "   id  ...                                             vector\n",
              "0   1  ...  [[0.0710915958180147, 0.03790642233455882, 0.0...\n",
              "1   2  ...  [[0.03919534122242647, 0.015222886029411764, 0...\n",
              "2   3  ...  [[0.16959635416666666, 0.07747395833333333, 0....\n",
              "3   4  ...  [[-0.04364885602678571, 0.021353585379464284, ...\n",
              "4   5  ...  [[-0.042205810546875, -0.015838623046875, -0.0...\n",
              "\n",
              "[5 rows x 4 columns]"
            ]
          },
          "metadata": {
            "tags": []
          },
          "execution_count": 48
        }
      ]
    },
    {
      "cell_type": "code",
      "metadata": {
        "id": "5FmvV0xzuHR5",
        "colab_type": "code",
        "colab": {
          "base_uri": "https://localhost:8080/",
          "height": 203
        },
        "outputId": "54ffb706-d25e-494e-966a-094a19f74ad8"
      },
      "source": [
        "train.drop('tweet',axis=1,inplace=True)\n",
        "train.head()"
      ],
      "execution_count": 52,
      "outputs": [
        {
          "output_type": "execute_result",
          "data": {
            "text/html": [
              "<div>\n",
              "<style scoped>\n",
              "    .dataframe tbody tr th:only-of-type {\n",
              "        vertical-align: middle;\n",
              "    }\n",
              "\n",
              "    .dataframe tbody tr th {\n",
              "        vertical-align: top;\n",
              "    }\n",
              "\n",
              "    .dataframe thead th {\n",
              "        text-align: right;\n",
              "    }\n",
              "</style>\n",
              "<table border=\"1\" class=\"dataframe\">\n",
              "  <thead>\n",
              "    <tr style=\"text-align: right;\">\n",
              "      <th></th>\n",
              "      <th>id</th>\n",
              "      <th>label</th>\n",
              "      <th>vector</th>\n",
              "    </tr>\n",
              "  </thead>\n",
              "  <tbody>\n",
              "    <tr>\n",
              "      <th>0</th>\n",
              "      <td>1</td>\n",
              "      <td>0</td>\n",
              "      <td>[[0.0710915958180147, 0.03790642233455882, 0.0...</td>\n",
              "    </tr>\n",
              "    <tr>\n",
              "      <th>1</th>\n",
              "      <td>2</td>\n",
              "      <td>0</td>\n",
              "      <td>[[0.03919534122242647, 0.015222886029411764, 0...</td>\n",
              "    </tr>\n",
              "    <tr>\n",
              "      <th>2</th>\n",
              "      <td>3</td>\n",
              "      <td>0</td>\n",
              "      <td>[[0.16959635416666666, 0.07747395833333333, 0....</td>\n",
              "    </tr>\n",
              "    <tr>\n",
              "      <th>3</th>\n",
              "      <td>4</td>\n",
              "      <td>0</td>\n",
              "      <td>[[-0.04364885602678571, 0.021353585379464284, ...</td>\n",
              "    </tr>\n",
              "    <tr>\n",
              "      <th>4</th>\n",
              "      <td>5</td>\n",
              "      <td>0</td>\n",
              "      <td>[[-0.042205810546875, -0.015838623046875, -0.0...</td>\n",
              "    </tr>\n",
              "  </tbody>\n",
              "</table>\n",
              "</div>"
            ],
            "text/plain": [
              "   id  label                                             vector\n",
              "0   1      0  [[0.0710915958180147, 0.03790642233455882, 0.0...\n",
              "1   2      0  [[0.03919534122242647, 0.015222886029411764, 0...\n",
              "2   3      0  [[0.16959635416666666, 0.07747395833333333, 0....\n",
              "3   4      0  [[-0.04364885602678571, 0.021353585379464284, ...\n",
              "4   5      0  [[-0.042205810546875, -0.015838623046875, -0.0..."
            ]
          },
          "metadata": {
            "tags": []
          },
          "execution_count": 52
        }
      ]
    },
    {
      "cell_type": "code",
      "metadata": {
        "id": "EW-tW_Mu3Ikn",
        "colab_type": "code",
        "colab": {
          "base_uri": "https://localhost:8080/",
          "height": 224
        },
        "outputId": "229e8ab9-4323-4927-9a69-9d475b9df4ed"
      },
      "source": [
        "train['vector']"
      ],
      "execution_count": 57,
      "outputs": [
        {
          "output_type": "execute_result",
          "data": {
            "text/plain": [
              "0        [[0.0710915958180147, 0.03790642233455882, 0.0...\n",
              "1        [[0.03919534122242647, 0.015222886029411764, 0...\n",
              "2        [[0.16959635416666666, 0.07747395833333333, 0....\n",
              "3        [[-0.04364885602678571, 0.021353585379464284, ...\n",
              "4        [[-0.042205810546875, -0.015838623046875, -0.0...\n",
              "                               ...                        \n",
              "31957    [[-0.082061767578125, 0.014892578125, 0.008117...\n",
              "31958    [[0.056592858355978264, 0.05500063688858696, 0...\n",
              "31959    [[0.03876906174879808, 0.0005563589242788461, ...\n",
              "31960    [[0.035481770833333336, 0.05859375, 0.06917317...\n",
              "31961    [[0.01131591796875, -0.03782958984375, 0.06674...\n",
              "Name: vector, Length: 31962, dtype: object"
            ]
          },
          "metadata": {
            "tags": []
          },
          "execution_count": 57
        }
      ]
    },
    {
      "cell_type": "code",
      "metadata": {
        "id": "xjv7MWXj1v6V",
        "colab_type": "code",
        "colab": {}
      },
      "source": [
        "from sklearn.model_selection import train_test_split\n",
        "x_train,x_test , y_train,y_test = train_test_split(vectors,train['label'],random_state=101)"
      ],
      "execution_count": 79,
      "outputs": []
    },
    {
      "cell_type": "code",
      "metadata": {
        "id": "xic23iin9Ohs",
        "colab_type": "code",
        "colab": {
          "base_uri": "https://localhost:8080/",
          "height": 68
        },
        "outputId": "d38a6d04-d80a-4643-d40e-719f4699a9a3"
      },
      "source": [
        "print(len(train[train['label']==0]))\n",
        "print(len(train[train['label']==1]))\n",
        "print(len(train[train['label']==0])/len(train[train['label']==1]))"
      ],
      "execution_count": 83,
      "outputs": [
        {
          "output_type": "stream",
          "text": [
            "29720\n",
            "2242\n",
            "13.256021409455842\n"
          ],
          "name": "stdout"
        }
      ]
    },
    {
      "cell_type": "code",
      "metadata": {
        "id": "fxxfvsD52CpV",
        "colab_type": "code",
        "colab": {
          "base_uri": "https://localhost:8080/",
          "height": 34
        },
        "outputId": "241d3fc2-6a40-435e-f772-6e09d8e7fce2"
      },
      "source": [
        "from sklearn.linear_model import SGDClassifier\n",
        "from xgboost import XGBClassifier\n",
        "from sklearn.ensemble import RandomForestClassifier\n",
        "# model_ = SGDClassifier()\n",
        "# model_ = XGBClassifier()\n",
        "model_ = RandomForestClassifier()\n",
        "model_.fit(x_train,y_train)\n",
        "model_.score(x_test,y_test)"
      ],
      "execution_count": 92,
      "outputs": [
        {
          "output_type": "execute_result",
          "data": {
            "text/plain": [
              "0.9486922788136654"
            ]
          },
          "metadata": {
            "tags": []
          },
          "execution_count": 92
        }
      ]
    }
  ]
}